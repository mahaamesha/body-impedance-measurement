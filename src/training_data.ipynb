{
 "cells": [
  {
   "cell_type": "markdown",
   "metadata": {},
   "source": [
    "### Import Library"
   ]
  },
  {
   "cell_type": "code",
   "execution_count": 1,
   "metadata": {},
   "outputs": [],
   "source": [
    "import os\n",
    "\n",
    "from formula import *\n",
    "import json_function as fjson\n",
    "import processing as proc\n",
    "import training_data as dtrain\n",
    "from graph import *\n",
    "from post_process import *\n",
    "import internal_factor as infac"
   ]
  },
  {
   "cell_type": "markdown",
   "metadata": {},
   "source": [
    "### Define Global Variable"
   ]
  },
  {
   "cell_type": "code",
   "execution_count": 2,
   "metadata": {},
   "outputs": [],
   "source": [
    "data_path = \"E:/_TUGAS/_ITBOneDrive/OneDrive - Institut Teknologi Bandung/_Kuliah/_sem7/7_kerja praktek/data/data training 74hc4051\"\n",
    "folder_name = [\"data training/\"]\n",
    "folder_path = folder_name.copy()\n",
    "\n",
    "fstart = 20e3\n",
    "fend = 50e3"
   ]
  },
  {
   "cell_type": "markdown",
   "metadata": {},
   "source": [
    "# Main Program"
   ]
  },
  {
   "cell_type": "markdown",
   "metadata": {},
   "source": [
    "### Considering Internal Factor"
   ]
  },
  {
   "cell_type": "code",
   "execution_count": 3,
   "metadata": {},
   "outputs": [
    {
     "name": "stdout",
     "output_type": "stream",
     "text": [
      "\n",
      "Initialize tmp/training_internal_factor.json ... Done\n",
      "\n",
      "\n",
      "Writing tmp/training_internal_factor.json ... Done\n"
     ]
    }
   ],
   "source": [
    "internal_flag = infac.choose_internal_flag()\n",
    "\n",
    "if internal_flag: infac.get_internal_factor(data_path, file_path=\"tmp/training_internal_factor.json\")"
   ]
  },
  {
   "cell_type": "code",
   "execution_count": 4,
   "metadata": {},
   "outputs": [
    {
     "name": "stdout",
     "output_type": "stream",
     "text": [
      "Initialize tmp files ... Done\n"
     ]
    }
   ],
   "source": [
    "# start\n",
    "# replace path_value in folder_path\n",
    "i = 0\n",
    "for f in folder_path:\n",
    "    folder_path[i] = os.path.join(data_path, f)\n",
    "    i += 1\n",
    "\n",
    "# prepare tmp files\n",
    "fjson.initialize_training_tmp_files()"
   ]
  },
  {
   "cell_type": "code",
   "execution_count": 5,
   "metadata": {},
   "outputs": [
    {
     "name": "stdout",
     "output_type": "stream",
     "text": [
      "\n",
      "Processing data training/ ...\n",
      "files: ['1106ohm (1).csv', '1106ohm (2).csv', '1106ohm (3).csv', '1106ohm (4).csv', '1106ohm (5).csv', '995ohm (1).csv', '995ohm (2).csv', '995ohm (3).csv', '995ohm (4).csv', '995ohm (5).csv']\n",
      "\n",
      "variation_str: ['1106ohm', '995ohm']\n",
      "\n",
      "variation_data: [1106.0, 995.0]\n",
      "\n",
      "saved_dirname: data training 74hc4051/\n",
      "\n"
     ]
    }
   ],
   "source": [
    "# process analysis\n",
    "idx = 0\n",
    "folder_path_i = folder_path[idx]\n",
    "\n",
    "print(\"\\nProcessing %s ...\" %folder_name[idx])\n",
    "\n",
    "# preprocessing\n",
    "files, dfs, dfs_list = proc.prepare_data(folder_path[idx])\n",
    "if internal_flag:\n",
    "    dfs_list = proc.create_actual_params_columns(dfs_list, file_path=\"tmp/training_internal_factor.json\")\n",
    "variation_str, variation_data = dtrain.preprocessing_data_training(files)\n",
    "saved_dirname = proc.prepare_result_folder(data_path)\n",
    "\n",
    "iteration = len(dfs_list) // len(variation_data)\n",
    "\n",
    "# main processing\n",
    "# process_analysis(folder_path[idx], variation_data, dfs_list, iteration)\n",
    "\n",
    "print(\"files: %s\\n\" %files)\n",
    "print(\"variation_str: %s\\n\" %variation_str)\n",
    "print(\"variation_data: %s\\n\" %variation_data)\n",
    "print(\"saved_dirname: %s\\n\" %saved_dirname)"
   ]
  },
  {
   "cell_type": "markdown",
   "metadata": {},
   "source": [
    "### Main Processing"
   ]
  },
  {
   "cell_type": "code",
   "execution_count": 6,
   "metadata": {},
   "outputs": [],
   "source": [
    "def process_analysis(folder_path_i, variation_str, dfs_list, iteration):\n",
    "    saved_dirname = proc.prepare_result_folder(data_path)\n",
    "\n",
    "    # plot & save figure\n",
    "    proc.build_graph_per_variation(variation_str, iteration, dfs_list, folder_path_i, saved_dirname)\n",
    "    \n",
    "    \n",
    "    # get z_mid & phase_mid from every dataframe. data_mid is data at fmid\n",
    "    # arr = [[...], [...], ...]\n",
    "    arr_z_mid, arr_phase_mid, dfs_list = proc.get_data_mid(dfs_list, iteration)\n",
    "    print(arr_z_mid)\n",
    "\n",
    "    print(arr_phase_mid)\n",
    "    \n",
    "    # # every variation have n dataframes. n = num_of_iteration\n",
    "    # # build single dataframe for every variation by averaging them\n",
    "    # df_choosen = build_df_choosen(dfs_list, iteration)\n",
    "\n",
    "\n",
    "    # # plot & save figure\n",
    "    # build_single_graph_from_df_choosen(df_choosen, variation_str, folder_path_i, saved_dirname, internal_flag)\n",
    "\n",
    "\n",
    "    # # store data_avg of parameter: z, phase. Stored to variatioin_rc_json\n",
    "    # arr_z_avg, arr_phase_avg = get_z_phase_avg_from_df_choosen(df_choosen, internal_flag)\n",
    "\n",
    "    # # calculate r,c from z,phase\n",
    "    # fmid = find_fmid_from_data_retrieval(dfs_list)\n",
    "    # arr_r, arr_c = get_rc_value(arr_z_avg, arr_phase_avg, fmid)  \n",
    "\n",
    "    # # update json file data\n",
    "    # update_retrieval_overview_json(files, iteration, variation_str)\n",
    "    # update_retrieval_variation_json(variation_str,\n",
    "    #                                 arr_z_mid, arr_phase_mid,\n",
    "    #                                 arr_z_avg, arr_phase_avg,\n",
    "    #                                 arr_r, arr_c)\n",
    "    # update_retrieval_body_composition_json(variation_str)"
   ]
  },
  {
   "cell_type": "code",
   "execution_count": 7,
   "metadata": {},
   "outputs": [
    {
     "ename": "NameError",
     "evalue": "name 'internal_flag' is not defined",
     "output_type": "error",
     "traceback": [
      "\u001b[1;31m---------------------------------------------------------------------------\u001b[0m",
      "\u001b[1;31mNameError\u001b[0m                                 Traceback (most recent call last)",
      "\u001b[1;32m<ipython-input-7-d67e19bc5485>\u001b[0m in \u001b[0;36m<module>\u001b[1;34m\u001b[0m\n\u001b[1;32m----> 1\u001b[1;33m \u001b[0mprocess_analysis\u001b[0m\u001b[1;33m(\u001b[0m\u001b[0mfolder_path\u001b[0m\u001b[1;33m[\u001b[0m\u001b[0midx\u001b[0m\u001b[1;33m]\u001b[0m\u001b[1;33m,\u001b[0m \u001b[0mvariation_str\u001b[0m\u001b[1;33m,\u001b[0m \u001b[0mdfs_list\u001b[0m\u001b[1;33m,\u001b[0m \u001b[0miteration\u001b[0m\u001b[1;33m)\u001b[0m\u001b[1;33m\u001b[0m\u001b[1;33m\u001b[0m\u001b[0m\n\u001b[0m",
      "\u001b[1;32m<ipython-input-6-38c5a439f052>\u001b[0m in \u001b[0;36mprocess_analysis\u001b[1;34m(folder_path_i, variation_str, dfs_list, iteration)\u001b[0m\n\u001b[0;32m      3\u001b[0m \u001b[1;33m\u001b[0m\u001b[0m\n\u001b[0;32m      4\u001b[0m     \u001b[1;31m# plot & save figure\u001b[0m\u001b[1;33m\u001b[0m\u001b[1;33m\u001b[0m\u001b[0m\n\u001b[1;32m----> 5\u001b[1;33m     \u001b[0mproc\u001b[0m\u001b[1;33m.\u001b[0m\u001b[0mbuild_graph_per_variation\u001b[0m\u001b[1;33m(\u001b[0m\u001b[0mvariation_str\u001b[0m\u001b[1;33m,\u001b[0m \u001b[0miteration\u001b[0m\u001b[1;33m,\u001b[0m \u001b[0mdfs_list\u001b[0m\u001b[1;33m,\u001b[0m \u001b[0mfolder_path_i\u001b[0m\u001b[1;33m,\u001b[0m \u001b[0msaved_dirname\u001b[0m\u001b[1;33m)\u001b[0m\u001b[1;33m\u001b[0m\u001b[1;33m\u001b[0m\u001b[0m\n\u001b[0m\u001b[0;32m      6\u001b[0m \u001b[1;33m\u001b[0m\u001b[0m\n\u001b[0;32m      7\u001b[0m \u001b[1;33m\u001b[0m\u001b[0m\n",
      "\u001b[1;32md:\\My_Project\\body-impedance-measurement\\src\\processing.py\u001b[0m in \u001b[0;36mbuild_graph_per_variation\u001b[1;34m(variation_str, iteration, dfs_list, folder_path_i, saved_dirname)\u001b[0m\n\u001b[0;32m    145\u001b[0m \u001b[1;33m\u001b[0m\u001b[0m\n\u001b[0;32m    146\u001b[0m \u001b[1;32mdef\u001b[0m \u001b[0mbuild_graph_per_variation\u001b[0m\u001b[1;33m(\u001b[0m\u001b[0mvariation_str\u001b[0m\u001b[1;33m,\u001b[0m \u001b[0miteration\u001b[0m\u001b[1;33m,\u001b[0m \u001b[0mdfs_list\u001b[0m\u001b[1;33m,\u001b[0m \u001b[0mfolder_path_i\u001b[0m\u001b[1;33m,\u001b[0m \u001b[0msaved_dirname\u001b[0m\u001b[1;33m)\u001b[0m\u001b[1;33m:\u001b[0m\u001b[1;33m\u001b[0m\u001b[1;33m\u001b[0m\u001b[0m\n\u001b[1;32m--> 147\u001b[1;33m     \u001b[1;32mif\u001b[0m \u001b[1;32mnot\u001b[0m\u001b[1;33m(\u001b[0m\u001b[0minternal_flag\u001b[0m\u001b[1;33m)\u001b[0m\u001b[1;33m:\u001b[0m\u001b[1;33m\u001b[0m\u001b[1;33m\u001b[0m\u001b[0m\n\u001b[0m\u001b[0;32m    148\u001b[0m         \u001b[1;31m# plot & save figure\u001b[0m\u001b[1;33m\u001b[0m\u001b[1;33m\u001b[0m\u001b[0m\n\u001b[0;32m    149\u001b[0m         graph_per_variation(variation_str, iteration, dfs_list, folder_path_i, saved_dirname,\n",
      "\u001b[1;31mNameError\u001b[0m: name 'internal_flag' is not defined"
     ]
    }
   ],
   "source": [
    "process_analysis(folder_path[idx], variation_str, dfs_list, iteration)"
   ]
  }
 ],
 "metadata": {
  "kernelspec": {
   "display_name": "Python 3.9.10 64-bit",
   "language": "python",
   "name": "python3"
  },
  "language_info": {
   "codemirror_mode": {
    "name": "ipython",
    "version": 3
   },
   "file_extension": ".py",
   "mimetype": "text/x-python",
   "name": "python",
   "nbconvert_exporter": "python",
   "pygments_lexer": "ipython3",
   "version": "3.9.10"
  },
  "orig_nbformat": 4,
  "vscode": {
   "interpreter": {
    "hash": "e31aef8222fb7c235d2ed8e74ce17e973738f89b37261e7466b7a63a6dfb1214"
   }
  }
 },
 "nbformat": 4,
 "nbformat_minor": 2
}
